{
  "cells": [
    {
      "cell_type": "markdown",
      "metadata": {
        "id": "GB2K42EgK9q5"
      },
      "source": [
        "![TheBridge_logo_RGB_color.jpg](attachment:TheBridge_logo_RGB_color.jpg)"
      ]
    },
    {
      "cell_type": "markdown",
      "metadata": {
        "id": "GnwVlO37K9q6"
      },
      "source": [
        "![imagen](./img/ejercicios.png)"
      ]
    },
    {
      "cell_type": "markdown",
      "metadata": {
        "id": "_9pTa0PXK9q6"
      },
      "source": [
        "## EJERCICIOS PYTHON BASICO 2:\n",
        "## Tipos y conversión de tipos"
      ]
    },
    {
      "cell_type": "markdown",
      "metadata": {
        "id": "tYmV-veoK9q6"
      },
      "source": [
        "Completa los siguiente ejercicios, la solución a los mismos se publicarán en el repo del curso a lo largo del sprint"
      ]
    },
    {
      "cell_type": "markdown",
      "metadata": {
        "id": "YAdFbIOXK9q7"
      },
      "source": [
        "![ejercicio.png](./img/ejercicio.png)\n",
        "\n",
        "## Ejercicio 1\n",
        "\n",
        "1. Crea dos variables numericas: un `int` y un `float`\n",
        "2. Comprueba sus tipos\n",
        "3. Sumalas en otra nueva\n",
        "4. ¿De qué tipo es la nueva variable?\n",
        "5. Elimina las dos primeras variables creadas"
      ]
    },
    {
      "cell_type": "code",
      "execution_count": 4,
      "metadata": {
        "id": "8QZmuLOsK9q7"
      },
      "outputs": [
        {
          "name": "stdout",
          "output_type": "stream",
          "text": [
            "El tipo de la variable numberInt es <class 'int'>\n",
            "El tipo de la variable numberFloat es <class 'float'>\n",
            "La nueva variable llamada sumatorio es del tipo <class 'float'>\n"
          ]
        }
      ],
      "source": [
        "numberInt = 53\n",
        "numberFloat= 23.95\n",
        "\n",
        "print(\"El tipo de la variable numberInt es\",type(numberInt))\n",
        "print(\"El tipo de la variable numberFloat es\",type(numberFloat))\n",
        "\n",
        "sumatorio = numberInt + numberFloat\n",
        "\n",
        "print(\"La nueva variable llamada sumatorio es del tipo\", type(sumatorio))\n",
        "\n",
        "del(numberInt)\n",
        "del(numberFloat)"
      ]
    },
    {
      "cell_type": "markdown",
      "metadata": {
        "id": "f5xfpkpQK9q7"
      },
      "source": [
        "![ejercicio.png](./img/ejercicio.png)\n",
        "\n",
        "## Ejercicio 2\n",
        "Escribe un programa para pasar de grados a radianes. Hay que usar `input`. Recuerda que la conversión se realiza mediante\n",
        "\n",
        "radianes = grados*(pi/180)"
      ]
    },
    {
      "cell_type": "code",
      "execution_count": 9,
      "metadata": {
        "id": "V50TUQMzK9q7"
      },
      "outputs": [
        {
          "name": "stdout",
          "output_type": "stream",
          "text": [
            "23.65 grados equivalen a 0.4127703680966589 radianes\n"
          ]
        }
      ],
      "source": [
        "import math\n",
        "\n",
        "grados = input(\"Introduzca los grados:\")\n",
        "radianes = float(grados)*(math.pi/180)\n",
        "print(f\"{grados} grados equivalen a {radianes} radianes\")"
      ]
    },
    {
      "cell_type": "markdown",
      "metadata": {
        "id": "zX3-p58CK9q7"
      },
      "source": [
        "![ejercicio.png](./img/ejercicio.png)\n",
        "\n",
        "## Ejercicio 3\n",
        "Escribe un programa que calcule el area de un paralelogramo (base x altura). También con `input`"
      ]
    },
    {
      "cell_type": "code",
      "execution_count": 10,
      "metadata": {
        "id": "s2QfNiBAK9q7"
      },
      "outputs": [
        {
          "name": "stdout",
          "output_type": "stream",
          "text": [
            "El área del paralelogramo es 1334.33\n"
          ]
        }
      ],
      "source": [
        "base = float(input(\"Introduzca la base del paralelogramo:\"))\n",
        "altura = float(input(\"Introduzca la altura del paralelogramo:\"))\n",
        "\n",
        "area = base * altura\n",
        "print(f\"El área del paralelogramo es {area}\")\n",
        "\n"
      ]
    },
    {
      "cell_type": "markdown",
      "metadata": {
        "id": "-6TBo_HvK9q8"
      },
      "source": [
        "![ejercicio.png](./img/ejercicio.png)\n",
        "\n",
        "## Ejercicio 4\n",
        "Escribe un programa que calcule el area de un paralelogramo (base x altura). También con `input`. En este caso debe ser capaz de admitir valores reales, con decimales, para base y altura en español. (PISTA: Recuerda que tendrás que hacer uso del método replace)"
      ]
    },
    {
      "cell_type": "code",
      "execution_count": 12,
      "metadata": {
        "id": "uzUIa1JqK9q8"
      },
      "outputs": [
        {
          "name": "stdout",
          "output_type": "stream",
          "text": [
            "El área del paralelogramo es 508.16150000000005\n"
          ]
        }
      ],
      "source": [
        "base = input(\"Introduzca la base del paralelogramo:\")\n",
        "base = base.replace(\",\",\".\")\n",
        "altura = input(\"Introduzca la altura del paralelogramo:\")\n",
        "altura = altura.replace(\",\",\".\") \n",
        "area = float(base) * float(altura)\n",
        "print(f\"El área del paralelogramo es {area}\")"
      ]
    },
    {
      "cell_type": "markdown",
      "metadata": {
        "id": "5zKugi5iK9q8"
      },
      "source": [
        "![ejercicio.png](./img/ejercicio.png)\n",
        "\n",
        "## Ejercicio 5\n",
        "Complete el siguiente código para solicitar al usuario su nombre y su edad. Luego, calcule en qué año nació el usuario y muestre el resultado."
      ]
    },
    {
      "cell_type": "code",
      "execution_count": 13,
      "metadata": {
        "id": "LISfTnRkK9q8"
      },
      "outputs": [
        {
          "name": "stdout",
          "output_type": "stream",
          "text": [
            "Fernando, naciste en el año 1992.\n"
          ]
        }
      ],
      "source": [
        "nombre = input(\"¿Cuál es tu nombre? \")\n",
        "edad = int(input(\"¿Cuál es tu edad? \"))\n",
        "año_actual = 2025  # Puedes cambiarlo según el año en curso\n",
        "año_nacimiento = año_actual - edad\n",
        "\n",
        "print(f\"{nombre}, naciste en el año {año_nacimiento}.\")\n"
      ]
    }
  ],
  "metadata": {
    "colab": {
      "provenance": []
    },
    "kernelspec": {
      "display_name": "Python 3",
      "language": "python",
      "name": "python3"
    },
    "language_info": {
      "codemirror_mode": {
        "name": "ipython",
        "version": 3
      },
      "file_extension": ".py",
      "mimetype": "text/x-python",
      "name": "python",
      "nbconvert_exporter": "python",
      "pygments_lexer": "ipython3",
      "version": "3.13.1"
    },
    "orig_nbformat": 4
  },
  "nbformat": 4,
  "nbformat_minor": 0
}
