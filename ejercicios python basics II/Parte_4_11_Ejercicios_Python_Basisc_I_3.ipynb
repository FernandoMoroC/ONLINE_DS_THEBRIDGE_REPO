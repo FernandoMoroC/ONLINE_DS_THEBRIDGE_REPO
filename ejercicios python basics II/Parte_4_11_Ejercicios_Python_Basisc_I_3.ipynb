{
  "cells": [
    {
      "cell_type": "markdown",
      "metadata": {
        "id": "uVkcqNFZGgix"
      },
      "source": [
        "![TheBridge_logo_RGB_color.jpg](attachment:TheBridge_logo_RGB_color.jpg)"
      ]
    },
    {
      "cell_type": "markdown",
      "metadata": {
        "id": "XU15_8jFGgi0"
      },
      "source": [
        "![imagen](./img/ejercicios.png)"
      ]
    },
    {
      "cell_type": "markdown",
      "metadata": {
        "id": "RYSbEltsGgi0"
      },
      "source": [
        "## EJERCICIOS PYTHON BASICO 3:\n",
        "## Operaciones matemáticas, comparación y booleanas"
      ]
    },
    {
      "cell_type": "markdown",
      "metadata": {
        "id": "5a5aXslXGgi3"
      },
      "source": [
        "Completa los siguiente ejercicios, la solución completa a los mismos se publicarán en el repo del curso a lo largo del sprint. En algunos ejercicios se muestra la solución final, para que puedas comprobar que lo has hecho bien, pero lo importante es el código que generes. ¡Vaaamos, a ello...!"
      ]
    },
    {
      "cell_type": "markdown",
      "metadata": {
        "id": "3Mn4L3f4Ggi3"
      },
      "source": [
        "![ejercicio.png](./img/ejercicio.png)\n",
        "\n",
        "\n",
        "## Ejercicio 1\n",
        "Tenemos las siguientes variables:\n",
        "\n",
        "```Python\n",
        "A = 4\n",
        "B = \"Text\"\n",
        "C = 4.1\n",
        "```\n",
        "\n",
        "Comprueba:\n",
        "1. Si A y B son equivalentes\n",
        "2. Si A y C NO son equivalentes\n",
        "3. Si A es mayor que C\n",
        "4. Si C es menor o igual que A\n",
        "5. Si B NO es equivalente a C"
      ]
    },
    {
      "cell_type": "code",
      "execution_count": 1,
      "metadata": {
        "id": "ejylMQ7AGgi4",
        "outputId": "53bbecdf-cc69-4d69-d0a8-80856f57e9ea"
      },
      "outputs": [
        {
          "name": "stdout",
          "output_type": "stream",
          "text": [
            "False\n",
            "True\n",
            "False\n",
            "False\n",
            "True\n"
          ]
        }
      ],
      "source": [
        "A = 4\n",
        "B = \"Text\"\n",
        "C = 4.1\n",
        "\n",
        "print(A == B)\n",
        "print(A != C)\n",
        "print(A > C)\n",
        "print(C <= A)\n",
        "print(B != C)\n"
      ]
    },
    {
      "cell_type": "markdown",
      "metadata": {
        "id": "LpVhWHaWGgi5"
      },
      "source": [
        "![ejercicio.png](./img/ejercicio.png)\n",
        "\n",
        "## Ejercicio 2\n",
        "Crea un programa donde se recojan dos inputs del usuario, y el output del programa sea si esos inputs son iguales o no"
      ]
    },
    {
      "cell_type": "code",
      "execution_count": 2,
      "metadata": {
        "id": "becTtmmYGgi5"
      },
      "outputs": [
        {
          "name": "stdout",
          "output_type": "stream",
          "text": [
            "True\n"
          ]
        }
      ],
      "source": [
        "variable1 = input(\"Introduzca una letra: \")\n",
        "variable2 = input(\"Introduzca otra letra: \")\n",
        "\n",
        "print(variable1 == variable2)"
      ]
    },
    {
      "cell_type": "markdown",
      "metadata": {
        "id": "qQWxXpBgGgi6"
      },
      "source": [
        "![ejercicio.png](./img/ejercicio.png)\n",
        "\n",
        "## Ejercicio 3\n",
        "Mismo programa que en 2, pero en esta ocasión tienen que ser tres inputs y dos salidas. Una de las salidas que nos indique si todos son iguales, y la otra si al menos dos inputs sí que lo son"
      ]
    },
    {
      "cell_type": "code",
      "execution_count": 4,
      "metadata": {
        "id": "ubnudWPYGgi6",
        "outputId": "84a05b85-1927-4543-bc9f-c1920ebd809f"
      },
      "outputs": [
        {
          "name": "stdout",
          "output_type": "stream",
          "text": [
            "Todos son iguales: False\n",
            "Todos son iguales: False\n"
          ]
        }
      ],
      "source": [
        "variable1 = input(\"Introduzca una letra: \")\n",
        "variable2 = input(\"Introduzca otra letra: \")\n",
        "variable3 = input(\"Introduzca otra letra: \")\n",
        "\n",
        "print(\"Todos son iguales:\" , variable1 == variable2 and variable1 == variable3 and variable2 == variable3 )\n",
        "print(\"Todos son iguales:\", variable1 == variable2 or variable1 == variable3 or variable2 == variable3 )\n"
      ]
    },
    {
      "cell_type": "markdown",
      "metadata": {
        "id": "e7iwnE1QGgi6"
      },
      "source": [
        "![ejercicio.png](./img/ejercicio.png)\n",
        "\n",
        "## Ejercicio 4\n",
        "Razona sin ejecutar código el output que obtendremos de las siguientes sentencias\n",
        "1. True and True and False\n",
        "2. not ((True or False) and (True or False))\n",
        "3. (False or False or False or True) and False\n",
        "4. not False and True and not True"
      ]
    },
    {
      "cell_type": "markdown",
      "metadata": {
        "id": "gDaL3gvuGgi7"
      },
      "source": []
    },
    {
      "cell_type": "markdown",
      "metadata": {},
      "source": [
        "1. False. Porque al usar \"and\" solo se obtiene True si todos son iguales.\n",
        "2. False. Porque los paréntesis son True ya que permiten cualquiera de los dos, el \"not\" convierte luego el True en False\n",
        "3. False. Porque el parentesis permite cualquiera, por lo que es True, finalmente True and False es False.\n",
        "4. False. Porque el primero es True, el segundo también pero el tercero es False, y como usamos el \"and y no todos son iguales el resultrado es False."
      ]
    }
  ],
  "metadata": {
    "colab": {
      "provenance": []
    },
    "kernelspec": {
      "display_name": "Python 3",
      "language": "python",
      "name": "python3"
    },
    "language_info": {
      "codemirror_mode": {
        "name": "ipython",
        "version": 3
      },
      "file_extension": ".py",
      "mimetype": "text/x-python",
      "name": "python",
      "nbconvert_exporter": "python",
      "pygments_lexer": "ipython3",
      "version": "3.13.1"
    },
    "orig_nbformat": 4
  },
  "nbformat": 4,
  "nbformat_minor": 0
}
