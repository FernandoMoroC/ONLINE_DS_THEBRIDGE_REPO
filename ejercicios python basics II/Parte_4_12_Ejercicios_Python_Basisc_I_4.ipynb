{
  "cells": [
    {
      "cell_type": "markdown",
      "metadata": {
        "id": "ABId66L0Ghyh"
      },
      "source": [
        "![TheBridge_logo_RGB_color.jpg](attachment:TheBridge_logo_RGB_color.jpg)"
      ]
    },
    {
      "cell_type": "markdown",
      "metadata": {
        "id": "K4larI7xGhyj"
      },
      "source": [
        "![imagen](./img/ejercicios.png)"
      ]
    },
    {
      "cell_type": "markdown",
      "metadata": {
        "id": "nV54Wu54Ghyk"
      },
      "source": [
        "## EJERCICIOS PYTHON BASICO 4:\n",
        "## Funciones, métodos, listas"
      ]
    },
    {
      "cell_type": "markdown",
      "metadata": {
        "id": "4bopTmR5Ghyk"
      },
      "source": [
        "Completa los siguiente ejercicios, la solución completa a los mismos se publicarán en el repo del curso a lo largo del sprint. En algunos ejercicios se muestra la solución final, para que puedas comprobar que lo has hecho bien, pero lo importante es el código que generes. ¡Vaaamos, a ello...!"
      ]
    },
    {
      "cell_type": "markdown",
      "metadata": {
        "id": "awYnxcblGhyl"
      },
      "source": [
        "![ejercicio.png](./img/ejercicio.png)\n",
        "\n",
        "## Ejercicio 1\n",
        "Para este ejercicio vamos a poner en práctica [las funciones built in](https://docs.python.org/3/library/functions.html).\n",
        "\n",
        "1. Calcula el máximo de la lista: [4, 6, 8, -1]\n",
        "2. Suma todos los elementos de la lista anterior\n",
        "3. Redondea este float a 3 dígitos decimales: 63.451256965\n",
        "4. Valor absoluto de: -74"
      ]
    },
    {
      "cell_type": "code",
      "execution_count": 2,
      "metadata": {
        "id": "tiyue86sGhyl"
      },
      "outputs": [
        {
          "name": "stdout",
          "output_type": "stream",
          "text": [
            "8\n",
            "17\n",
            "63.451\n",
            "74\n"
          ]
        }
      ],
      "source": [
        "# 1.\n",
        "numeros = [4, 6, 8, -1]\n",
        "\n",
        "print(max(numeros))\n",
        "\n",
        "# 2.\n",
        "suma = 0\n",
        "for numb in numeros:\n",
        "    suma = suma + numb\n",
        "print(suma)\n",
        "\n",
        "# 3.\n",
        "print(round(63.451256965, 3))\n",
        "\n",
        "# 4.\n",
        "print(abs(-74))\n",
        "\n"
      ]
    },
    {
      "cell_type": "markdown",
      "metadata": {
        "id": "FNGqLwQQGhym"
      },
      "source": [
        "![ejercicio.png](./img/ejercicio.png)\n",
        "\n",
        "## Ejercicio 2\n",
        "Para el siguiente string se pide imprimir por pantalla los siguientes casos\n",
        "\n",
        "    \"En un lugar de la Mancha, de cuyo nombre no quiero acordarme.\"\n",
        "\n",
        "1. Pásalo todo a mayúsculas\n",
        "2. Pásalo todo a minúsculas\n",
        "3. Solo la primera letra de cada palabra en mayúscula, el resto en minúscula\n",
        "4. Crea una lista dividiéndolo por sus espacios\n",
        "5. Sustituye las comas `,` por puntos y comas `;`\n",
        "6. Elimina las `a` minúsculas"
      ]
    },
    {
      "cell_type": "code",
      "execution_count": 4,
      "metadata": {
        "id": "VZhTKY0KGhym",
        "outputId": "983f932c-609e-4347-afa6-1850f98ae617"
      },
      "outputs": [
        {
          "name": "stdout",
          "output_type": "stream",
          "text": [
            "EN UN LUGAR DE LA MANCHA, DE CUYO NOMBRE NO QUIERO ACORDARME.\n",
            "en un lugar de la mancha, de cuyo nombre no quiero acordarme.\n",
            "En Un Lugar De La Mancha, De Cuyo Nombre No Quiero Acordarme.\n",
            "['En', 'un', 'lugar', 'de', 'la', 'Mancha,', 'de', 'cuyo', 'nombre', 'no', 'quiero', 'acordarme.']\n",
            "En un lugar de la Mancha; de cuyo nombre no quiero acordarme.\n",
            "En un lugr de l Mnch, de cuyo nombre no quiero cordrme.\n"
          ]
        }
      ],
      "source": [
        "sentence = \"En un lugar de la Mancha, de cuyo nombre no quiero acordarme.\"\n",
        "\n",
        "# 1.\n",
        "print(sentence.upper())\n",
        "\n",
        "# 2.\n",
        "print(sentence.lower())\n",
        "\n",
        "# 3.\n",
        "print(sentence.title())\n",
        "\n",
        "# 4.\n",
        "lista = sentence.split(\" \")\n",
        "print(lista)\n",
        "\n",
        "# 5.\n",
        "print(sentence.replace(\",\", \";\"))\n",
        "\n",
        "# 6.\n",
        "\n",
        "print(sentence.replace(\"a\", \"\"))\n",
        "\n"
      ]
    },
    {
      "cell_type": "markdown",
      "metadata": {
        "id": "SmFCyPk4Ghyn"
      },
      "source": [
        "![ejercicio.png](./img/ejercicio.png)\n",
        "\n",
        "## Ejercicio 3\n",
        "1. Crea una lista con 3 elementos numéricos\n",
        "2. Añade un cuarto elemento\n",
        "3. Calcula la suma de todos\n",
        "4. Elimina el segundo elemento de la lista\n",
        "5. Añade otro elemento en la posicion 3 de la lista\n",
        "6. Crea otra lista con 4 elementos y concaténala a la que ya tenías.\n",
        "7. Ordena la lista de menor a mayor.\n",
        "8. BONUS: Ordena la lista de mayor a menor.  \n",
        "(*PISTA: Para hacer 8, tendrás que buscar en la información del método...*)  \n",
        "  \n",
        "  \n",
        "NOTA: Pinta por pantalla el resultado de cada paso."
      ]
    },
    {
      "cell_type": "code",
      "execution_count": 8,
      "metadata": {
        "id": "E93cHhFeGhyn",
        "outputId": "e02e82b4-c83b-48ea-c06d-27a7152db2c2"
      },
      "outputs": [
        {
          "name": "stdout",
          "output_type": "stream",
          "text": [
            "54\n",
            "[1, 2, 3, 4, 7, 11, 23, 54]\n",
            "[54, 23, 11, 7, 4, 3, 2, 1]\n"
          ]
        }
      ],
      "source": [
        "# 1. \n",
        "numeros = [11, 13, 7]\n",
        "\n",
        "# 2.\n",
        "numeros.append(23)\n",
        "\n",
        "# 3.\n",
        "suma = 0\n",
        "for numb in numeros:\n",
        "    suma = suma + numb\n",
        "print(suma)\n",
        "\n",
        "# 4. \n",
        "numeros.pop(1)\n",
        "\n",
        "# 5.\n",
        "numeros.insert(2, 54)\n",
        "\n",
        "# 6. \n",
        "masNumeros = [1, 2, 3, 4]\n",
        "concatenadas = numeros + masNumeros\n",
        "\n",
        "# 7.\n",
        "concatenadas.sort()\n",
        "print(concatenadas)\n",
        "\n",
        "# 8\n",
        "concatenadas.sort(reverse = True)\n",
        "print(concatenadas)\n",
        "\n",
        "\n"
      ]
    }
  ],
  "metadata": {
    "colab": {
      "provenance": []
    },
    "kernelspec": {
      "display_name": "Python 3",
      "language": "python",
      "name": "python3"
    },
    "language_info": {
      "codemirror_mode": {
        "name": "ipython",
        "version": 3
      },
      "file_extension": ".py",
      "mimetype": "text/x-python",
      "name": "python",
      "nbconvert_exporter": "python",
      "pygments_lexer": "ipython3",
      "version": "3.13.1"
    },
    "orig_nbformat": 4
  },
  "nbformat": 4,
  "nbformat_minor": 0
}
