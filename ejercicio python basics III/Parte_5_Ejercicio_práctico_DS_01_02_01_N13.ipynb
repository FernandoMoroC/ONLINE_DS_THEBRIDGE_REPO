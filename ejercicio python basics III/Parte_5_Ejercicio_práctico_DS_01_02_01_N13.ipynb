{
  "cells": [
    {
      "cell_type": "markdown",
      "metadata": {
        "id": "9l3HMgm6RWxF"
      },
      "source": [
        "![TheBridge_logo_RGB_color.jpg](attachment:TheBridge_logo_RGB_color.jpg)"
      ]
    },
    {
      "cell_type": "markdown",
      "metadata": {
        "id": "RGg9iWpoRWxG"
      },
      "source": [
        "![ejercicios.png](attachment:ejercicios.png)"
      ]
    },
    {
      "cell_type": "markdown",
      "metadata": {
        "id": "AyOlWS2nRWxH"
      },
      "source": [
        "## PRACTICA OBLIGATORIA: COLECCIONES Y FUNCIONES"
      ]
    },
    {
      "cell_type": "markdown",
      "metadata": {
        "id": "6UOgb0KVRWxH"
      },
      "source": [
        "* La práctica obligatoria de esta unidad consiste varios ejercicios de programación libre a completar sobre Colecciones y Funciones. Descarga este notebook en tu ordenador y trabaja en local.  \n",
        "* Recuerda que debes subirla a tu repositorio personal antes de la sesión en vivo para que puntúe adecuadamente y puedas participar en dicha sesión.  \n",
        "* Recuerda también que no es necesario que esté perfecta, sólo es necesario que se vea el esfuerzo.\n",
        "* Esta práctica se resolverá en la sesión en vivo correspondiente y la solución se publicará en el repo del curso."
      ]
    },
    {
      "cell_type": "markdown",
      "metadata": {
        "id": "j3yu-tEjRWxH"
      },
      "source": [
        "### Contenidos"
      ]
    },
    {
      "cell_type": "markdown",
      "metadata": {
        "id": "kO-fLH39RWxH"
      },
      "source": [
        "## Ejercicio 1\n",
        "Eleva todos los elementos de la lista al cuadrado\n",
        "> ```ejer_2 = [1,2,3,4,5]```"
      ]
    },
    {
      "cell_type": "code",
      "execution_count": null,
      "metadata": {
        "id": "ks5l3yi7RWxH"
      },
      "outputs": [
        {
          "name": "stdout",
          "output_type": "stream",
          "text": [
            "[1, 4, 9, 16, 25]\n"
          ]
        }
      ],
      "source": [
        "ejer_2 = [1,2,3,4,5]\n",
        "ejer_2_cuadrado = []\n",
        "\n",
        "for number in ejer_2:\n",
        "    ejer_2_cuadrado.append(number**2)\n",
        "\n",
        "print(ejer_2_cuadrado)\n",
        "    "
      ]
    },
    {
      "cell_type": "markdown",
      "metadata": {
        "id": "kI_Xr5oFRWxI"
      },
      "source": [
        "## Ejercicio 2\n",
        "Haz un programa que detecte todos los duplicados de un elemento en una lista:\n",
        "* Utiliza una variable duplicado para asignarle el valor del elemento del que queremos encontrar todos sus duplicados.\n",
        "* El programa debe devolver todos los índices de los elementos duplicados.\n",
        "* Aplícalo para encontrar los duplicados de \"un\", \"es\" y \"binario\" de:  \n",
        "\n",
        ">```ejer_3 = [\"Un\", \"árbol\", \"binario\", \"es\", \"una\", \"estructura\", \"de\", \"un\", \"tipo\", \"particular\", \"a\", \"veces\", \"no\", \"es\", \"ni\", \"binario\"]```\n"
      ]
    },
    {
      "cell_type": "code",
      "execution_count": 8,
      "metadata": {
        "id": "cLY9WB7YRWxI"
      },
      "outputs": [
        {
          "name": "stdout",
          "output_type": "stream",
          "text": [
            "[2, 3, 7, 13, 15]\n"
          ]
        }
      ],
      "source": [
        "ejer_3 = [\"Un\", \"árbol\", \"binario\", \"es\", \"una\", \"estructura\", \"de\", \"un\", \"tipo\", \"particular\", \"a\", \"veces\", \"no\", \"es\", \"ni\", \"binario\"]\n",
        "\n",
        "duplicado = [\"un\", \"es\", \"binario\"]\n",
        "numero_duplicados = []\n",
        "\n",
        "for i in range(len(ejer_3)):\n",
        "    if ejer_3[i] in duplicado:\n",
        "        numero_duplicados.append(i)\n",
        "\n",
        "print(numero_duplicados)"
      ]
    },
    {
      "cell_type": "markdown",
      "metadata": {
        "id": "3WrBd5QaRWxI"
      },
      "source": [
        "## Ejercicio 3\n",
        "1. ¿Cuántas veces se repite el 3 en la siguiente tupla?\n",
        "2. Crea una tupla nueva con los elementos desde la posicion 5 a la 10.\n",
        "3. ¿Cuántos elementos tiene la tupla `ejer_3`?\n",
        "> ```ejer_9 = (3, 20, 3, 47, 19, 3, 29, 45, 67, 78, 90, 3, 3, 5, 2, 4, 7, 9, 4, 2, 4, 3, 3, 4, 6, 7)```"
      ]
    },
    {
      "cell_type": "code",
      "execution_count": 29,
      "metadata": {
        "id": "bkv_R5LYRWxI"
      },
      "outputs": [
        {
          "name": "stdout",
          "output_type": "stream",
          "text": [
            "El numero 3 se repite 7 veces\n",
            "(19, 3, 29, 45, 67, 78)\n",
            "La tupla ejer_9 tiene 26 elementos\n"
          ]
        }
      ],
      "source": [
        "# Imagino que la tupla ejer_3 de la pregunta 3 se refiere a la tupla ejer_9\n",
        "ejer_9 = (3, 20, 3, 47, 19, 3, 29, 45, 67, 78, 90, 3, 3, 5, 2, 4, 7, 9, 4, 2, 4, 3, 3, 4, 6, 7)\n",
        "\n",
        "repeticiones_3 = 0\n",
        "for i in ejer_9:\n",
        "    if i == 3:\n",
        "        repeticiones_3 += 1\n",
        "\n",
        "print(f\"El numero 3 se repite {repeticiones_3} veces\")\n",
        "\n",
        "tupla_nueva = ejer_9[4:10]\n",
        "print(tupla_nueva)\n",
        "\n",
        "print(\"La tupla ejer_9 tiene\", len(ejer_9), \"elementos\")\n",
        "\n"
      ]
    },
    {
      "cell_type": "markdown",
      "metadata": {
        "id": "6g8Y54AeRWxI"
      },
      "source": [
        "## Ejercicio 4\n",
        "Comprueba si el numero 60 esta en la tupla del ejercicio 3"
      ]
    },
    {
      "cell_type": "code",
      "execution_count": 20,
      "metadata": {
        "id": "F8VTEZonRWxI"
      },
      "outputs": [
        {
          "name": "stdout",
          "output_type": "stream",
          "text": [
            "False\n"
          ]
        }
      ],
      "source": [
        "\n",
        "comprob = 60 in ejer_9\n",
        "print(comprob)\n"
      ]
    },
    {
      "cell_type": "markdown",
      "metadata": {
        "id": "y0fg-ZA6RWxI"
      },
      "source": [
        "## Ejercicio 5\n",
        "1. Convierte la tupla del ejercicio 3 en una lista\n",
        "2. Convierte la tupla del ejercicio 3 en un set\n",
        "3. Convierte la tupla del ejercicio 3 en un diccionario. Usa también los indices"
      ]
    },
    {
      "cell_type": "code",
      "execution_count": 34,
      "metadata": {
        "id": "_O5hXr01RWxI"
      },
      "outputs": [
        {
          "name": "stdout",
          "output_type": "stream",
          "text": [
            "<class 'list'>\n",
            "<class 'set'>\n",
            "{0: 3, 1: 20, 2: 3, 3: 47, 4: 19, 5: 3, 6: 29, 7: 45, 8: 67, 9: 78, 10: 90, 11: 3, 12: 3, 13: 5, 14: 2, 15: 4, 16: 7, 17: 9, 18: 4, 19: 2, 20: 4, 21: 3, 22: 3, 23: 4, 24: 6, 25: 7}\n"
          ]
        }
      ],
      "source": [
        "# Lista\n",
        "ejer_9 = (3, 20, 3, 47, 19, 3, 29, 45, 67, 78, 90, 3, 3, 5, 2, 4, 7, 9, 4, 2, 4, 3, 3, 4, 6, 7)\n",
        "ejer_9 = [ejer_9]\n",
        "print(type(ejer_9))\n",
        "\n",
        "#Set\n",
        "ejer_9 = (3, 20, 3, 47, 19, 3, 29, 45, 67, 78, 90, 3, 3, 5, 2, 4, 7, 9, 4, 2, 4, 3, 3, 4, 6, 7)\n",
        "ejer_9_set = set(ejer_9)\n",
        "print(type(ejer_9_set))\n",
        "\n",
        "#Diccionario\n",
        "\n",
        "ejer_9 = (3, 20, 3, 47, 19, 3, 29, 45, 67, 78, 90, 3, 3, 5, 2, 4, 7, 9, 4, 2, 4, 3, 3, 4, 6, 7)\n",
        "diccionario = {}\n",
        "\n",
        "\n",
        "for i,valor in enumerate(ejer_9):\n",
        "    diccionario[i] = valor\n",
        "\n",
        "print(diccionario)\n"
      ]
    },
    {
      "cell_type": "markdown",
      "metadata": {
        "id": "eOdWWbxvRWxJ"
      },
      "source": [
        "## Ejercicio 6\n",
        "Multiplica todos los valores del diccionario\n",
        "> ```ejer_6 = {1: 11, 2: 22, 3: 33, 4: 44, 5: 55}```"
      ]
    },
    {
      "cell_type": "code",
      "execution_count": null,
      "metadata": {
        "id": "KcuByovKRWxJ"
      },
      "outputs": [
        {
          "name": "stdout",
          "output_type": "stream",
          "text": [
            "11\n",
            "242\n",
            "7986\n",
            "351384\n",
            "19326120\n",
            "19326120\n"
          ]
        }
      ],
      "source": [
        "ejer_6 = {1: 11, 2: 22, 3: 33, 4: 44, 5: 55}\n",
        "\n",
        "result_multip = 1\n",
        "\n",
        "for clave,valor in ejer_6.items():\n",
        "    result_multip = result_multip * valor\n",
        "\n",
        "print(result_multip)\n"
      ]
    },
    {
      "cell_type": "markdown",
      "metadata": {
        "id": "W7TUSaKRRWxJ"
      },
      "source": [
        "## Ejercicio 7\n",
        "\n",
        "1. Crea un diccionario que describa un libro, con los siguientes campos o claves: \"titulo\",\"autor\",\"idioma original\",\"año de publicación\".\n",
        "2. Crea un a lista, llamada librería.\n",
        "3. Añade cuatro libros a tu elección a la librería."
      ]
    },
    {
      "cell_type": "code",
      "execution_count": 39,
      "metadata": {
        "id": "d-IMRvxRRWxJ"
      },
      "outputs": [
        {
          "name": "stdout",
          "output_type": "stream",
          "text": [
            "[{'titulo': '1984', 'autor': 'George Orwell', 'idioma original': 'Inglés', 'año de publicacion': '1949'}, {'titulo': 'La conjura de los necios', 'autor': 'Jhon Keneddy Tool', 'idioma original': 'Inglés', 'año de publicacion': '1980'}, {'titulo': 'Los santos inocentes', 'autor': 'Miguel Delibes', 'idioma original': 'Castellano', 'año de publicacion': '1981'}, {'titulo': 'La familia de Pascual Duarte', 'autor': 'Camilo José Cela', 'idioma original': 'Castellano', 'año de publicacion': '1942'}]\n"
          ]
        }
      ],
      "source": [
        "libro1 = {\"titulo\" : \"1984\", \n",
        "          \"autor\" : \"George Orwell\",\n",
        "          \"idioma original\" : \"Inglés\",\n",
        "          \"año de publicacion\": \"1949\"\n",
        "          }\n",
        "\n",
        "libro2 = {\"titulo\" : \"La conjura de los necios\", \n",
        "          \"autor\" : \"Jhon Keneddy Tool\",\n",
        "          \"idioma original\" : \"Inglés\",\n",
        "          \"año de publicacion\": \"1980\"\n",
        "          }\n",
        "\n",
        "libro3 = {\"titulo\" : \"Los santos inocentes\", \n",
        "          \"autor\" : \"Miguel Delibes\",\n",
        "          \"idioma original\" : \"Castellano\",\n",
        "          \"año de publicacion\": \"1981\"\n",
        "          }\n",
        "\n",
        "libro4 = {\"titulo\" : \"La familia de Pascual Duarte\", \n",
        "          \"autor\" : \"Camilo José Cela\",\n",
        "          \"idioma original\" : \"Castellano\",\n",
        "          \"año de publicacion\": \"1942\"\n",
        "          }\n",
        "\n",
        "libreria = []\n",
        "\n",
        "\n",
        "libreria.append(libro1) ; libreria.append(libro2) ; libreria.append(libro3) ; libreria.append(libro4) \n",
        "print(libreria)"
      ]
    },
    {
      "cell_type": "markdown",
      "metadata": {
        "id": "glMoedjYRWxJ"
      },
      "source": [
        "## Ejercicio 8\n",
        "Modifica los valores del idioma de todos los libros del ejercicio anterior para que sea \"esperanto\"\n"
      ]
    },
    {
      "cell_type": "code",
      "execution_count": 40,
      "metadata": {
        "id": "veNdC-uwRWxJ"
      },
      "outputs": [
        {
          "name": "stdout",
          "output_type": "stream",
          "text": [
            "[{'titulo': '1984', 'autor': 'George Orwell', 'idioma original': 'esperanto', 'año de publicacion': '1949'}, {'titulo': 'La conjura de los necios', 'autor': 'Jhon Keneddy Tool', 'idioma original': 'esperanto', 'año de publicacion': '1980'}, {'titulo': 'Los santos inocentes', 'autor': 'Miguel Delibes', 'idioma original': 'esperanto', 'año de publicacion': '1981'}, {'titulo': 'La familia de Pascual Duarte', 'autor': 'Camilo José Cela', 'idioma original': 'esperanto', 'año de publicacion': '1942'}]\n"
          ]
        }
      ],
      "source": [
        "for i in range(len(libreria)):\n",
        "    libreria[i][\"idioma original\"] = \"esperanto\"\n",
        "\n",
        "print(libreria)"
      ]
    },
    {
      "cell_type": "markdown",
      "metadata": {
        "id": "DRCJG04KRWxJ"
      },
      "source": [
        "## Ejercicio 9\n",
        "1. Escribe un programa que dada una variable titulo busque los libros que hay en la librería con ese título. Si no se encuentra debe devolver el mensaje `Ese no lo tengo, ¿mola?`\n",
        "2. Pruena que el programa con uno de tus libros y con otro que no contenga tu librería."
      ]
    },
    {
      "cell_type": "code",
      "execution_count": 43,
      "metadata": {
        "id": "eWHdJi9BRWxJ"
      },
      "outputs": [
        {
          "name": "stdout",
          "output_type": "stream",
          "text": [
            "Ese no lo tengo, ¿mola?\n"
          ]
        }
      ],
      "source": [
        "titulo = input(\"Título:\")\n",
        "\n",
        "libros_titulos = []\n",
        "for i in range(len(libreria)):\n",
        "    libros_titulos.append(libreria[i][\"titulo\"])\n",
        "\n",
        "if titulo in libros_titulos:\n",
        "    print(\"El libro esta disponible\")\n",
        "else:\n",
        "    print(\"Ese no lo tengo, ¿mola?\")\n",
        "    "
      ]
    },
    {
      "cell_type": "markdown",
      "metadata": {
        "id": "17YOpYuFRWxJ"
      },
      "source": [
        "## Ejercicio 10\n",
        "Convierte el programa del ejercicio 2 en una función al que se le pase el valor a buscar como un argumento posicional"
      ]
    },
    {
      "cell_type": "code",
      "execution_count": null,
      "metadata": {
        "id": "xbj0LgvnRWxJ"
      },
      "outputs": [
        {
          "data": {
            "text/plain": [
              "[2, 3, 13, 15]"
            ]
          },
          "execution_count": 45,
          "metadata": {},
          "output_type": "execute_result"
        }
      ],
      "source": [
        "def buscar_duplicados(x):\n",
        "    ejer_3 = [\"Un\", \"árbol\", \"binario\", \"es\", \"una\", \"estructura\", \"de\", \"un\", \"tipo\", \"particular\", \"a\", \"veces\", \"no\", \"es\", \"ni\", \"binario\"]\n",
        "    numero_duplicados = []\n",
        "    for i in range(len(ejer_3)):\n",
        "        if ejer_3[i] in x:\n",
        "            numero_duplicados.append(i)\n",
        "    return(numero_duplicados)\n"
      ]
    },
    {
      "cell_type": "markdown",
      "metadata": {
        "id": "xZ-sWJxPRWxJ"
      },
      "source": [
        "## Ejercicio 11\n",
        "Convierte el programa del ejercicio 9 en una función al que se le pasen como argumentos la librería, posicional, y el título, argumento keyword con valor \"ninguno\", por defecto."
      ]
    },
    {
      "cell_type": "code",
      "execution_count": 48,
      "metadata": {
        "id": "4-JrsMdNRWxK"
      },
      "outputs": [
        {
          "data": {
            "text/plain": [
              "'El libro esta disponible'"
            ]
          },
          "execution_count": 48,
          "metadata": {},
          "output_type": "execute_result"
        }
      ],
      "source": [
        "def buscar_libros(libreria, titulo = \"ninguno\"):\n",
        "    libros_titulos = []\n",
        "    for i in range(len(libreria)):\n",
        "        libros_titulos.append(libreria[i][\"titulo\"])\n",
        "\n",
        "    if titulo in libros_titulos:\n",
        "        return \"El libro esta disponible\"\n",
        "    else:\n",
        "        return \"Ese no lo tengo, ¿mola?\"\n",
        "    \n",
        "\n",
        "buscar_libros(libreria, titulo = \"1984\")\n",
        "    "
      ]
    },
    {
      "cell_type": "markdown",
      "metadata": {
        "id": "FtJir95QRWxK"
      },
      "source": [
        "## Ejercicio 12\n",
        "Solicitar al usuario que ingrese su dirección email. Imprimir un mensaje indicando si la dirección es válida o no, valiéndose de una función para decidirlo. Una dirección se considerará válida si contiene el símbolo \"@\"."
      ]
    },
    {
      "cell_type": "code",
      "execution_count": null,
      "metadata": {
        "id": "sk852IZ8RWxK"
      },
      "outputs": [
        {
          "data": {
            "text/plain": [
              "'Gracias'"
            ]
          },
          "execution_count": 51,
          "metadata": {},
          "output_type": "execute_result"
        }
      ],
      "source": [
        "\n",
        "\n",
        "def validacion_email(direccion_email):\n",
        "    if \"@\" in direccion_email:\n",
        "       return \"Gracias, la direccion es válida\"\n",
        "    else:\n",
        "        return \"La dirección no es válida\"\n",
        "\n",
        "\n",
        "direccion_email = input(\"Introduzca su dirección de email, por favor:\")\n",
        "validacion_email(direccion_email)"
      ]
    },
    {
      "cell_type": "markdown",
      "metadata": {
        "id": "Kw1MWBwBRWxK"
      },
      "source": [
        "## Ejercicio 13\n",
        "Escribe una función que compruebe si un DNI es válido, devolviendo `True` en caso afirmativo.  \n",
        "En primer lugar, el DNI debe tener entre 7 y 8 dígitos numéricos.  \n",
        "Para saber si la letra del DNI es correcta puedes utilizar el siguiente fragmento de código:\n",
        ">```Python\n",
        ">DNI= 55555555\n",
        ">palabra='TRWAGMYFPDXBNJZSQVHLCKE'\n",
        ">print('La letra del DNI es: ', palabra[DNI%23])\n",
        ">````\n"
      ]
    },
    {
      "cell_type": "code",
      "execution_count": 9,
      "metadata": {
        "id": "F5Z9rSHqRWxK"
      },
      "outputs": [
        {
          "data": {
            "text/plain": [
              "True"
            ]
          },
          "execution_count": 9,
          "metadata": {},
          "output_type": "execute_result"
        }
      ],
      "source": [
        "def validacion_dni(numero,letra):\n",
        "    DNI = numero\n",
        "    palabra='TRWAGMYFPDXBNJZSQVHLCKE'\n",
        "    if letra == palabra[DNI%23]:\n",
        "        return True\n",
        "    else:\n",
        "        return False\n",
        "\n",
        "\n",
        "\n",
        "validacion_dni(76051001,\"Y\")\n"
      ]
    },
    {
      "cell_type": "code",
      "execution_count": null,
      "metadata": {},
      "outputs": [],
      "source": []
    }
  ],
  "metadata": {
    "colab": {
      "provenance": []
    },
    "kernelspec": {
      "display_name": "Python 3",
      "language": "python",
      "name": "python3"
    },
    "language_info": {
      "codemirror_mode": {
        "name": "ipython",
        "version": 3
      },
      "file_extension": ".py",
      "mimetype": "text/x-python",
      "name": "python",
      "nbconvert_exporter": "python",
      "pygments_lexer": "ipython3",
      "version": "3.13.1"
    },
    "orig_nbformat": 4
  },
  "nbformat": 4,
  "nbformat_minor": 0
}
